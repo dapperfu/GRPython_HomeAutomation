{
 "cells": [
  {
   "cell_type": "code",
   "execution_count": 4,
   "metadata": {},
   "outputs": [],
   "source": [
    "import python_tivo"
   ]
  },
  {
   "cell_type": "code",
   "execution_count": 7,
   "metadata": {},
   "outputs": [],
   "source": [
    "c = python_tivo.connection.TiVoConnection(host=\"192.168.1.135\", port=31339)"
   ]
  },
  {
   "cell_type": "code",
   "execution_count": 8,
   "metadata": {},
   "outputs": [
    {
     "data": {
      "text/plain": [
       "[{'raw': 'CH_STATUS 0232 LOCAL',\n",
       "  'type': 'CH_STATUS',\n",
       "  'channel': '0232',\n",
       "  'reason': 'LOCAL',\n",
       "  'subChannel': None}]"
      ]
     },
     "execution_count": 8,
     "metadata": {},
     "output_type": "execute_result"
    }
   ],
   "source": [
    "c.sendIRCode(\"STANDBY\")"
   ]
  },
  {
   "cell_type": "code",
   "execution_count": 9,
   "metadata": {},
   "outputs": [
    {
     "data": {
      "text/plain": [
       "'0232'"
      ]
     },
     "execution_count": 9,
     "metadata": {},
     "output_type": "execute_result"
    }
   ],
   "source": [
    "c.fetchCurrentChannel()"
   ]
  },
  {
   "cell_type": "code",
   "execution_count": 17,
   "metadata": {},
   "outputs": [],
   "source": [
    "c.setOnState(True)"
   ]
  },
  {
   "cell_type": "code",
   "execution_count": 16,
   "metadata": {},
   "outputs": [],
   "source": [
    "c.setOnState(False)"
   ]
  },
  {
   "cell_type": "code",
   "execution_count": 18,
   "metadata": {},
   "outputs": [
    {
     "data": {
      "text/plain": [
       "'0232'"
      ]
     },
     "execution_count": 18,
     "metadata": {},
     "output_type": "execute_result"
    }
   ],
   "source": [
    "c.fetchCurrentChannel()"
   ]
  },
  {
   "cell_type": "code",
   "execution_count": 20,
   "metadata": {},
   "outputs": [
    {
     "data": {
      "text/plain": [
       "False"
      ]
     },
     "execution_count": 20,
     "metadata": {},
     "output_type": "execute_result"
    }
   ],
   "source": [
    "c.setChannel('0233')"
   ]
  },
  {
   "cell_type": "code",
   "execution_count": 24,
   "metadata": {},
   "outputs": [
    {
     "data": {
      "text/plain": [
       "[{'raw': 'CH_STATUS 0232 LOCAL',\n",
       "  'type': 'CH_STATUS',\n",
       "  'channel': '0232',\n",
       "  'reason': 'LOCAL',\n",
       "  'subChannel': None},\n",
       " {'raw': 'INVALID_COMMAND', 'type': 'INVALID_COMMAND'},\n",
       " {'raw': 'INVALID_COMMAND', 'type': 'INVALID_COMMAND'},\n",
       " {'raw': 'INVALID_COMMAND', 'type': 'INVALID_COMMAND'},\n",
       " {'raw': 'INVALID_COMMAND', 'type': 'INVALID_COMMAND'},\n",
       " {'raw': 'INVALID_COMMAND', 'type': 'INVALID_COMMAND'},\n",
       " {'raw': 'INVALID_COMMAND', 'type': 'INVALID_COMMAND'},\n",
       " {'raw': 'INVALID_COMMAND', 'type': 'INVALID_COMMAND'},\n",
       " {'raw': 'INVALID_COMMAND', 'type': 'INVALID_COMMAND'},\n",
       " {'raw': 'INVALID_COMMAND', 'type': 'INVALID_COMMAND'},\n",
       " {'raw': 'INVALID_COMMAND', 'type': 'INVALID_COMMAND'},\n",
       " {'raw': 'INVALID_COMMAND', 'type': 'INVALID_COMMAND'}]"
      ]
     },
     "execution_count": 24,
     "metadata": {},
     "output_type": "execute_result"
    }
   ],
   "source": [
    "c.sendCommands(\"SETCH 0233\\n\")"
   ]
  },
  {
   "cell_type": "code",
   "execution_count": null,
   "metadata": {},
   "outputs": [],
   "source": []
  }
 ],
 "metadata": {
  "kernelspec": {
   "display_name": "Python 3",
   "language": "python",
   "name": "python3"
  },
  "language_info": {
   "codemirror_mode": {
    "name": "ipython",
    "version": 3
   },
   "file_extension": ".py",
   "mimetype": "text/x-python",
   "name": "python",
   "nbconvert_exporter": "python",
   "pygments_lexer": "ipython3",
   "version": "3.7.3"
  }
 },
 "nbformat": 4,
 "nbformat_minor": 2
}
