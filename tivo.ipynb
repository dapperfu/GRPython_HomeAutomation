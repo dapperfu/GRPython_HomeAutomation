{
 "cells": [
  {
   "cell_type": "code",
   "execution_count": 1,
   "metadata": {},
   "outputs": [],
   "source": [
    "import python_tivo"
   ]
  },
  {
   "cell_type": "code",
   "execution_count": 2,
   "metadata": {},
   "outputs": [],
   "source": [
    "c = python_tivo.connection.TiVoConnection(host=\"192.168.1.135\", port=31339)"
   ]
  },
  {
   "cell_type": "code",
   "execution_count": 3,
   "metadata": {},
   "outputs": [
    {
     "data": {
      "text/plain": [
       "[]"
      ]
     },
     "execution_count": 3,
     "metadata": {},
     "output_type": "execute_result"
    }
   ],
   "source": [
    "c.sendIRCode(\"STANDBY\")"
   ]
  },
  {
   "cell_type": "code",
   "execution_count": null,
   "metadata": {},
   "outputs": [],
   "source": [
    "c.fetchCurrentChannel()"
   ]
  },
  {
   "cell_type": "code",
   "execution_count": 4,
   "metadata": {},
   "outputs": [],
   "source": [
    "c.setOnState(True)"
   ]
  },
  {
   "cell_type": "code",
   "execution_count": 17,
   "metadata": {},
   "outputs": [],
   "source": [
    "c.setOnState(False)"
   ]
  },
  {
   "cell_type": "code",
   "execution_count": null,
   "metadata": {},
   "outputs": [],
   "source": [
    "c.fetchCurrentChannel()"
   ]
  },
  {
   "cell_type": "code",
   "execution_count": null,
   "metadata": {},
   "outputs": [],
   "source": [
    "c.setChannel('0233')"
   ]
  },
  {
   "cell_type": "code",
   "execution_count": 10,
   "metadata": {},
   "outputs": [
    {
     "data": {
      "text/plain": [
       "[{'raw': 'CH_STATUS 0234 LOCAL',\n",
       "  'type': 'CH_STATUS',\n",
       "  'channel': '0234',\n",
       "  'reason': 'LOCAL',\n",
       "  'subChannel': None},\n",
       " {'raw': 'INVALID_COMMAND', 'type': 'INVALID_COMMAND'},\n",
       " {'raw': 'INVALID_COMMAND', 'type': 'INVALID_COMMAND'},\n",
       " {'raw': 'INVALID_COMMAND', 'type': 'INVALID_COMMAND'},\n",
       " {'raw': 'INVALID_COMMAND', 'type': 'INVALID_COMMAND'},\n",
       " {'raw': 'INVALID_COMMAND', 'type': 'INVALID_COMMAND'},\n",
       " {'raw': 'INVALID_COMMAND', 'type': 'INVALID_COMMAND'},\n",
       " {'raw': 'INVALID_COMMAND', 'type': 'INVALID_COMMAND'},\n",
       " {'raw': 'INVALID_COMMAND', 'type': 'INVALID_COMMAND'},\n",
       " {'raw': 'INVALID_COMMAND', 'type': 'INVALID_COMMAND'},\n",
       " {'raw': 'INVALID_COMMAND', 'type': 'INVALID_COMMAND'},\n",
       " {'raw': 'INVALID_COMMAND', 'type': 'INVALID_COMMAND'}]"
      ]
     },
     "execution_count": 10,
     "metadata": {},
     "output_type": "execute_result"
    }
   ],
   "source": [
    "c.sendCommands(\"SETCH 0233\\n\")"
   ]
  },
  {
   "cell_type": "code",
   "execution_count": 8,
   "metadata": {},
   "outputs": [
    {
     "data": {
      "text/plain": [
       "[{'raw': 'CH_STATUS 0002 LOCAL',\n",
       "  'type': 'CH_STATUS',\n",
       "  'channel': '0002',\n",
       "  'reason': 'LOCAL',\n",
       "  'subChannel': None},\n",
       " {'raw': 'CH_STATUS 0231 LOCAL',\n",
       "  'type': 'CH_STATUS',\n",
       "  'channel': '0231',\n",
       "  'reason': 'LOCAL',\n",
       "  'subChannel': None}]"
      ]
     },
     "execution_count": 8,
     "metadata": {},
     "output_type": "execute_result"
    }
   ],
   "source": [
    "c.sendIRCode(\"NUM2\")\n",
    "c.sendIRCode(\"NUM3\")\n",
    "c.sendIRCode(\"NUM1\")\n",
    "c.sendIRCode(\"ENTER\")"
   ]
  },
  {
   "cell_type": "code",
   "execution_count": 11,
   "metadata": {},
   "outputs": [
    {
     "ename": "TypeError",
     "evalue": "can only concatenate str (not \"list\") to str",
     "output_type": "error",
     "traceback": [
      "\u001b[0;31m---------------------------------------------------------------------------\u001b[0m",
      "\u001b[0;31mTypeError\u001b[0m                                 Traceback (most recent call last)",
      "\u001b[0;32m<ipython-input-11-88b70b5f5470>\u001b[0m in \u001b[0;36m<module>\u001b[0;34m\u001b[0m\n\u001b[0;32m----> 1\u001b[0;31m \u001b[0mc\u001b[0m\u001b[0;34m.\u001b[0m\u001b[0msendIRCode\u001b[0m\u001b[0;34m(\u001b[0m\u001b[0;34m[\u001b[0m\u001b[0;34m\"NUM2\"\u001b[0m\u001b[0;34m,\u001b[0m \u001b[0;34m\"NUM3\"\u001b[0m\u001b[0;34m,\u001b[0m \u001b[0;34m\"NUM1\"\u001b[0m\u001b[0;34m,\u001b[0m \u001b[0;34m\"ENTER\"\u001b[0m\u001b[0;34m]\u001b[0m\u001b[0;34m)\u001b[0m\u001b[0;34m\u001b[0m\u001b[0;34m\u001b[0m\u001b[0m\n\u001b[0m",
      "\u001b[0;32m~/projects/GRPython_HomeAutomation/python-tivo/python_tivo/connection.py\u001b[0m in \u001b[0;36msendIRCode\u001b[0;34m(self, code)\u001b[0m\n\u001b[1;32m    163\u001b[0m \u001b[0;34m\u001b[0m\u001b[0m\n\u001b[1;32m    164\u001b[0m   \u001b[0;32mdef\u001b[0m \u001b[0msendIRCode\u001b[0m\u001b[0;34m(\u001b[0m\u001b[0mself\u001b[0m\u001b[0;34m,\u001b[0m \u001b[0mcode\u001b[0m\u001b[0;34m)\u001b[0m\u001b[0;34m:\u001b[0m\u001b[0;34m\u001b[0m\u001b[0;34m\u001b[0m\u001b[0m\n\u001b[0;32m--> 165\u001b[0;31m     \u001b[0;32mreturn\u001b[0m \u001b[0mself\u001b[0m\u001b[0;34m.\u001b[0m\u001b[0msendCommands\u001b[0m\u001b[0;34m(\u001b[0m\u001b[0;34m[\u001b[0m\u001b[0;34m\"IRCODE \"\u001b[0m \u001b[0;34m+\u001b[0m \u001b[0mcode\u001b[0m\u001b[0;34m]\u001b[0m\u001b[0;34m)\u001b[0m\u001b[0;34m\u001b[0m\u001b[0;34m\u001b[0m\u001b[0m\n\u001b[0m\u001b[1;32m    166\u001b[0m \u001b[0;34m\u001b[0m\u001b[0m\n\u001b[1;32m    167\u001b[0m   \u001b[0;32mdef\u001b[0m \u001b[0msendKeyboard\u001b[0m\u001b[0;34m(\u001b[0m\u001b[0mself\u001b[0m\u001b[0;34m,\u001b[0m \u001b[0mcode\u001b[0m\u001b[0;34m)\u001b[0m\u001b[0;34m:\u001b[0m\u001b[0;34m\u001b[0m\u001b[0;34m\u001b[0m\u001b[0m\n",
      "\u001b[0;31mTypeError\u001b[0m: can only concatenate str (not \"list\") to str"
     ]
    }
   ],
   "source": [
    "c.sendIRCode([\"NUM2\", \"NUM3\", \"NUM1\", \"ENTER\"])"
   ]
  },
  {
   "cell_type": "code",
   "execution_count": 12,
   "metadata": {},
   "outputs": [
    {
     "data": {
      "text/plain": [
       "[{'raw': 'CH_STATUS 0234 LOCAL',\n",
       "  'type': 'CH_STATUS',\n",
       "  'channel': '0234',\n",
       "  'reason': 'LOCAL',\n",
       "  'subChannel': None},\n",
       " {'raw': 'CH_STATUS 0231 LOCAL',\n",
       "  'type': 'CH_STATUS',\n",
       "  'channel': '0231',\n",
       "  'reason': 'LOCAL',\n",
       "  'subChannel': None}]"
      ]
     },
     "execution_count": 12,
     "metadata": {},
     "output_type": "execute_result"
    }
   ],
   "source": [
    "c.sendCommands([\"IRCODE NUM2\", \"IRCODE NUM3\", \"IRCODE NUM1\", \"IRCODE ENTER\"])"
   ]
  },
  {
   "cell_type": "code",
   "execution_count": 14,
   "metadata": {},
   "outputs": [
    {
     "data": {
      "text/plain": [
       "[{'raw': 'CH_STATUS 0231 LOCAL',\n",
       "  'type': 'CH_STATUS',\n",
       "  'channel': '0231',\n",
       "  'reason': 'LOCAL',\n",
       "  'subChannel': None},\n",
       " {'raw': 'CH_STATUS 0233 LOCAL',\n",
       "  'type': 'CH_STATUS',\n",
       "  'channel': '0233',\n",
       "  'reason': 'LOCAL',\n",
       "  'subChannel': None}]"
      ]
     },
     "execution_count": 14,
     "metadata": {},
     "output_type": "execute_result"
    }
   ],
   "source": [
    "c.sendCommands([\"IRCODE NUM2\", \"IRCODE NUM3\", \"IRCODE NUM3\", \"IRCODE ENTER\"])"
   ]
  },
  {
   "cell_type": "code",
   "execution_count": 15,
   "metadata": {},
   "outputs": [
    {
     "data": {
      "text/plain": [
       "[{'raw': 'CH_STATUS 0233 LOCAL',\n",
       "  'type': 'CH_STATUS',\n",
       "  'channel': '0233',\n",
       "  'reason': 'LOCAL',\n",
       "  'subChannel': None},\n",
       " {'raw': 'CH_STATUS 0232 LOCAL',\n",
       "  'type': 'CH_STATUS',\n",
       "  'channel': '0232',\n",
       "  'reason': 'LOCAL',\n",
       "  'subChannel': None}]"
      ]
     },
     "execution_count": 15,
     "metadata": {},
     "output_type": "execute_result"
    }
   ],
   "source": [
    "c.sendCommands([\"IRCODE NUM2\", \"IRCODE NUM3\", \"IRCODE NUM2\", \"IRCODE ENTER\"])"
   ]
  },
  {
   "cell_type": "code",
   "execution_count": 6,
   "metadata": {},
   "outputs": [],
   "source": [
    "c.fetchCurrentChannel()"
   ]
  },
  {
   "cell_type": "code",
   "execution_count": 9,
   "metadata": {},
   "outputs": [
    {
     "data": {
      "text/plain": [
       "[{'raw': 'CH_STATUS 0231 LOCAL',\n",
       "  'type': 'CH_STATUS',\n",
       "  'channel': '0231',\n",
       "  'reason': 'LOCAL',\n",
       "  'subChannel': None},\n",
       " {'raw': 'CH_STATUS 0234 LOCAL',\n",
       "  'type': 'CH_STATUS',\n",
       "  'channel': '0234',\n",
       "  'reason': 'LOCAL',\n",
       "  'subChannel': None}]"
      ]
     },
     "execution_count": 9,
     "metadata": {},
     "output_type": "execute_result"
    }
   ],
   "source": [
    "c.sendIRCode(\"LIVETV\")"
   ]
  },
  {
   "cell_type": "code",
   "execution_count": null,
   "metadata": {},
   "outputs": [],
   "source": []
  }
 ],
 "metadata": {
  "kernelspec": {
   "display_name": "Python 3",
   "language": "python",
   "name": "python3"
  },
  "language_info": {
   "codemirror_mode": {
    "name": "ipython",
    "version": 3
   },
   "file_extension": ".py",
   "mimetype": "text/x-python",
   "name": "python",
   "nbconvert_exporter": "python",
   "pygments_lexer": "ipython3",
   "version": "3.7.3"
  }
 },
 "nbformat": 4,
 "nbformat_minor": 2
}
