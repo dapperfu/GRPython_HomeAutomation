{
 "cells": [
  {
   "cell_type": "code",
   "execution_count": 3,
   "metadata": {},
   "outputs": [
    {
     "ename": "ModuleNotFoundError",
     "evalue": "No module named 'python_tivo.TiVo'",
     "output_type": "error",
     "traceback": [
      "\u001b[0;31m---------------------------------------------------------------------------\u001b[0m",
      "\u001b[0;31mModuleNotFoundError\u001b[0m                       Traceback (most recent call last)",
      "\u001b[0;32m<ipython-input-3-b6367613175c>\u001b[0m in \u001b[0;36m<module>\u001b[0;34m\u001b[0m\n\u001b[0;32m----> 1\u001b[0;31m \u001b[0;32mimport\u001b[0m \u001b[0mpython_tivo\u001b[0m\u001b[0;34m\u001b[0m\u001b[0;34m\u001b[0m\u001b[0m\n\u001b[0m",
      "\u001b[0;32m~/projects/GRPython_HomeAutomation/python-tivo/python_tivo/__init__.py\u001b[0m in \u001b[0;36m<module>\u001b[0;34m\u001b[0m\n\u001b[1;32m     11\u001b[0m \u001b[0;32mfrom\u001b[0m \u001b[0;34m.\u001b[0m\u001b[0mresponse\u001b[0m \u001b[0;32mimport\u001b[0m \u001b[0;34m*\u001b[0m\u001b[0;34m\u001b[0m\u001b[0;34m\u001b[0m\u001b[0m\n\u001b[1;32m     12\u001b[0m \u001b[0;34m\u001b[0m\u001b[0m\n\u001b[0;32m---> 13\u001b[0;31m \u001b[0;32mfrom\u001b[0m \u001b[0;34m.\u001b[0m\u001b[0mTiVo\u001b[0m \u001b[0;32mimport\u001b[0m \u001b[0mTiVo\u001b[0m\u001b[0;34m\u001b[0m\u001b[0;34m\u001b[0m\u001b[0m\n\u001b[0m\u001b[1;32m     14\u001b[0m \u001b[0;34m\u001b[0m\u001b[0m\n\u001b[1;32m     15\u001b[0m \u001b[0m__all__\u001b[0m \u001b[0;34m=\u001b[0m \u001b[0;34m[\u001b[0m\u001b[0;34m'TiVo'\u001b[0m\u001b[0;34m]\u001b[0m\u001b[0;34m\u001b[0m\u001b[0;34m\u001b[0m\u001b[0m\n",
      "\u001b[0;31mModuleNotFoundError\u001b[0m: No module named 'python_tivo.TiVo'"
     ]
    }
   ],
   "source": [
    "import python_tivo"
   ]
  },
  {
   "cell_type": "code",
   "execution_count": null,
   "metadata": {},
   "outputs": [],
   "source": [
    "tivo.ipynb"
   ]
  },
  {
   "cell_type": "code",
   "execution_count": null,
   "metadata": {},
   "outputs": [],
   "source": [
    "tivo = python_tivo.Tivo(host=\"192.168.1.135\", port=31339)"
   ]
  },
  {
   "cell_type": "code",
   "execution_count": null,
   "metadata": {},
   "outputs": [],
   "source": [
    "class_ = python_tivo.const.IRCodeCommand"
   ]
  },
  {
   "cell_type": "code",
   "execution_count": null,
   "metadata": {},
   "outputs": [],
   "source": [
    "# Good artists steal.\n",
    "# https://github.com/jed-frey/python_GCode/blob/master/GCode/GCode.py#L74\n",
    "def ir_code_wrapper(ir_code):\n",
    "    def ir_code_cmd(self):\n",
    "        print(f\"!! {ir_code} !!\")\n",
    "        return self.sendIRCode(ir_code)\n",
    "    return ir_code_cmd"
   ]
  },
  {
   "cell_type": "code",
   "execution_count": null,
   "metadata": {},
   "outputs": [],
   "source": [
    "class_ = python_tivo.const.IRCodeCommand\n",
    "for ir_code in dir(class_):\n",
    "    if ir_code.startswith(\"_\"):\n",
    "        continue\n",
    "    \n",
    "    attr = getattr(class_, ir_code)\n",
    "    \n",
    "    try:\n",
    "        assert hasattr(tivo, ir_code.lower())\n",
    "    except AssertionError:\n",
    "        pass\n",
    "    except:\n",
    "        raise\n",
    "        \n",
    "    ir_fcn = ir_code_wrapper(ir_code)\n",
    "    setattr(python_tivo.Tivo, ir_code.lower(), ir_fcn)\n",
    "    \n",
    "    assert hasattr(tivo, ir_code.lower())"
   ]
  },
  {
   "cell_type": "code",
   "execution_count": null,
   "metadata": {},
   "outputs": [],
   "source": [
    "tivo.pause()"
   ]
  },
  {
   "cell_type": "code",
   "execution_count": null,
   "metadata": {},
   "outputs": [],
   "source": [
    "class Tivo(python_tivo.Tivo):\n",
    "    def __init__(self, **kwargs):\n",
    "        super().__init__(**kwargs)\n",
    "\n",
    "    def setch(self, channel=231):\n",
    "        if not isinstance(channel, str):\n",
    "            channel = str(channel)\n",
    "        cmds=list()\n",
    "        for num in channel:\n",
    "            cmds+=[f\"IRCODE NUM{num}\"]\n",
    "        cmds+=[\"IRCODE ENTER\"]\n",
    "        self.sendCommands(cmds)"
   ]
  },
  {
   "cell_type": "code",
   "execution_count": null,
   "metadata": {},
   "outputs": [],
   "source": [
    "class_ = python_tivo.const.IRCodeCommand\n",
    "for ir_code in dir(class_):\n",
    "    if ir_code.startswith(\"_\"):\n",
    "        continue       \n",
    "    ir_fcn = ir_code_wrapper(ir_code)\n",
    "    setattr(python_tivo.Tivo, ir_code.lower(), ir_fcn)\n",
    "    assert hasattr(Tivo, ir_code.lower())"
   ]
  },
  {
   "cell_type": "code",
   "execution_count": null,
   "metadata": {},
   "outputs": [],
   "source": [
    "tivo2 = Tivo(host=\"192.168.1.135\", port=31339)"
   ]
  },
  {
   "cell_type": "code",
   "execution_count": null,
   "metadata": {},
   "outputs": [],
   "source": [
    "hasattr(Tivo,)"
   ]
  },
  {
   "cell_type": "code",
   "execution_count": null,
   "metadata": {},
   "outputs": [],
   "source": [
    "tivo2.pause()"
   ]
  },
  {
   "cell_type": "code",
   "execution_count": null,
   "metadata": {},
   "outputs": [],
   "source": [
    "tivo.setch"
   ]
  },
  {
   "cell_type": "code",
   "execution_count": null,
   "metadata": {},
   "outputs": [],
   "source": [
    "ir_code_wrapper(\"PAUSE\")"
   ]
  },
  {
   "cell_type": "code",
   "execution_count": null,
   "metadata": {},
   "outputs": [],
   "source": [
    "setattr(python_tivo.Tivo, \"pause2\", ir_code_wrapper(\"PAUSE\"))"
   ]
  },
  {
   "cell_type": "code",
   "execution_count": null,
   "metadata": {},
   "outputs": [],
   "source": [
    "def setch(channel=231):\n",
    "    if not isinstance(channel, str):\n",
    "        channel = str(channel)\n",
    "    cmds=list()\n",
    "    for num in channel:\n",
    "        cmds+=[f\"IRCODE NUM{num}\"]\n",
    "    cmds+=[\"IRCODE ENTER\"]\n",
    "    c.sendCommands(cmds)"
   ]
  },
  {
   "cell_type": "code",
   "execution_count": null,
   "metadata": {},
   "outputs": [],
   "source": [
    "setch(231)"
   ]
  },
  {
   "cell_type": "code",
   "execution_count": null,
   "metadata": {},
   "outputs": [],
   "source": [
    "setch(240)"
   ]
  },
  {
   "cell_type": "code",
   "execution_count": null,
   "metadata": {},
   "outputs": [],
   "source": [
    "setch(235)"
   ]
  },
  {
   "cell_type": "code",
   "execution_count": null,
   "metadata": {},
   "outputs": [],
   "source": [
    "setch(233)"
   ]
  }
 ],
 "metadata": {
  "kernelspec": {
   "display_name": "Python 3",
   "language": "python",
   "name": "python3"
  },
  "language_info": {
   "codemirror_mode": {
    "name": "ipython",
    "version": 3
   },
   "file_extension": ".py",
   "mimetype": "text/x-python",
   "name": "python",
   "nbconvert_exporter": "python",
   "pygments_lexer": "ipython3",
   "version": "3.7.3"
  }
 },
 "nbformat": 4,
 "nbformat_minor": 2
}
