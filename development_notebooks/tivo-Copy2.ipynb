{
 "cells": [
  {
   "cell_type": "code",
   "execution_count": 1,
   "metadata": {},
   "outputs": [],
   "source": [
    "import python_tivo"
   ]
  },
  {
   "cell_type": "code",
   "execution_count": 3,
   "metadata": {},
   "outputs": [],
   "source": [
    "tivo = python_tivo.Tivo(host=\"192.168.1.135\", port=31339)"
   ]
  },
  {
   "cell_type": "code",
   "execution_count": 4,
   "metadata": {},
   "outputs": [
    {
     "data": {
      "text/plain": [
       "[{'raw': 'CH_STATUS 0232 RECORDING',\n",
       "  'type': 'CH_STATUS',\n",
       "  'channel': '0232',\n",
       "  'reason': 'RECORDING',\n",
       "  'subChannel': None}]"
      ]
     },
     "execution_count": 4,
     "metadata": {},
     "output_type": "execute_result"
    }
   ],
   "source": [
    "tivo.sendIRCode(\"CC_ON\")"
   ]
  },
  {
   "cell_type": "code",
   "execution_count": 5,
   "metadata": {},
   "outputs": [
    {
     "data": {
      "text/plain": [
       "[{'raw': 'CH_STATUS 0232 RECORDING',\n",
       "  'type': 'CH_STATUS',\n",
       "  'channel': '0232',\n",
       "  'reason': 'RECORDING',\n",
       "  'subChannel': None}]"
      ]
     },
     "execution_count": 5,
     "metadata": {},
     "output_type": "execute_result"
    }
   ],
   "source": [
    "tivo.sendIRCode(\"CC_OFF\")"
   ]
  },
  {
   "cell_type": "code",
   "execution_count": 6,
   "metadata": {},
   "outputs": [
    {
     "data": {
      "text/plain": [
       "[{'raw': 'CH_STATUS 0232 RECORDING',\n",
       "  'type': 'CH_STATUS',\n",
       "  'channel': '0232',\n",
       "  'reason': 'RECORDING',\n",
       "  'subChannel': None}]"
      ]
     },
     "execution_count": 6,
     "metadata": {},
     "output_type": "execute_result"
    }
   ],
   "source": [
    "tivo.sendIRCode(\"OPTIONS\")"
   ]
  },
  {
   "cell_type": "code",
   "execution_count": 7,
   "metadata": {},
   "outputs": [
    {
     "data": {
      "text/plain": [
       "[{'raw': 'CH_STATUS 0232 RECORDING',\n",
       "  'type': 'CH_STATUS',\n",
       "  'channel': '0232',\n",
       "  'reason': 'RECORDING',\n",
       "  'subChannel': None}]"
      ]
     },
     "execution_count": 7,
     "metadata": {},
     "output_type": "execute_result"
    }
   ],
   "source": [
    "tivo.sendIRCode(\"PAUSE\")"
   ]
  },
  {
   "cell_type": "code",
   "execution_count": 8,
   "metadata": {},
   "outputs": [
    {
     "data": {
      "text/plain": [
       "[{'raw': 'CH_STATUS 0232 RECORDING',\n",
       "  'type': 'CH_STATUS',\n",
       "  'channel': '0232',\n",
       "  'reason': 'RECORDING',\n",
       "  'subChannel': None}]"
      ]
     },
     "execution_count": 8,
     "metadata": {},
     "output_type": "execute_result"
    }
   ],
   "source": [
    "tivo.sendIRCode(\"PLAY\")"
   ]
  },
  {
   "cell_type": "code",
   "execution_count": 22,
   "metadata": {},
   "outputs": [
    {
     "name": "stdout",
     "output_type": "stream",
     "text": [
      "action_a\n",
      "action_b\n",
      "action_c\n",
      "action_d\n",
      "advance\n",
      "aspect_correction_full\n",
      "aspect_correction_panel\n",
      "aspect_correction_wide_zoom\n",
      "aspect_correction_zoom\n",
      "back\n",
      "cc_off\n",
      "cc_on\n",
      "channeldown\n",
      "channelup\n",
      "clear\n",
      "down\n",
      "enter\n",
      "exit\n",
      "forward\n",
      "guide\n",
      "info\n",
      "left\n",
      "livetv\n",
      "mute\n",
      "num0\n",
      "num1\n",
      "num2\n",
      "num3\n",
      "num4\n",
      "num5\n",
      "num6\n",
      "num7\n",
      "num8\n",
      "num9\n",
      "options\n",
      "pause\n",
      "play\n",
      "record\n",
      "replay\n",
      "reverse\n",
      "right\n",
      "select\n",
      "slow\n",
      "thumbsdown\n",
      "thumbsup\n",
      "tivo\n",
      "tvinput\n",
      "up\n",
      "video_mode_fixed_1080i\n",
      "video_mode_fixed_480i\n",
      "video_mode_fixed_480p\n",
      "video_mode_fixed_720p\n",
      "video_mode_hybrid\n",
      "video_mode_hybrid_1080i\n",
      "video_mode_hybrid_720p\n",
      "video_mode_native\n",
      "volumedown\n",
      "volumeup\n",
      "window\n"
     ]
    }
   ],
   "source": [
    "class_ = python_tivo.const.IRCodeCommand\n",
    "for ir_code in dir(class_):\n",
    "    if ir_code.startswith(\"_\"):\n",
    "        continue\n",
    "    \n",
    "    attr = getattr(class_, ir_code)\n",
    "    if isinstance(attr, str):\n",
    "        print(ir_code.lower())"
   ]
  },
  {
   "cell_type": "code",
   "execution_count": 26,
   "metadata": {},
   "outputs": [],
   "source": [
    "def pause(self):\n",
    "    return self.sendIRCode(\"PAUSE\")"
   ]
  },
  {
   "cell_type": "code",
   "execution_count": 27,
   "metadata": {},
   "outputs": [
    {
     "data": {
      "text/plain": [
       "False"
      ]
     },
     "execution_count": 27,
     "metadata": {},
     "output_type": "execute_result"
    }
   ],
   "source": [
    "hasattr(tivo, \"pause\")"
   ]
  },
  {
   "cell_type": "code",
   "execution_count": 28,
   "metadata": {},
   "outputs": [],
   "source": [
    "setattr(python_tivo.Tivo, 'pause', pause)"
   ]
  },
  {
   "cell_type": "code",
   "execution_count": 31,
   "metadata": {},
   "outputs": [
    {
     "data": {
      "text/plain": [
       "True"
      ]
     },
     "execution_count": 31,
     "metadata": {},
     "output_type": "execute_result"
    }
   ],
   "source": [
    "hasattr(tivo, \"pause\")"
   ]
  },
  {
   "cell_type": "code",
   "execution_count": 33,
   "metadata": {
    "scrolled": true
   },
   "outputs": [
    {
     "data": {
      "text/plain": [
       "[{'raw': 'CH_STATUS 0232 LOCAL',\n",
       "  'type': 'CH_STATUS',\n",
       "  'channel': '0232',\n",
       "  'reason': 'LOCAL',\n",
       "  'subChannel': None}]"
      ]
     },
     "execution_count": 33,
     "metadata": {},
     "output_type": "execute_result"
    }
   ],
   "source": [
    "tivo.pause()"
   ]
  },
  {
   "cell_type": "code",
   "execution_count": 34,
   "metadata": {},
   "outputs": [],
   "source": [
    "from functools import wraps"
   ]
  },
  {
   "cell_type": "code",
   "execution_count": 36,
   "metadata": {},
   "outputs": [],
   "source": [
    "def ir_code_wrapper(ir_code):\n",
    "    def ir_code_cmd(self):\n",
    "         return self.sendIRCode(ir_code)\n",
    "    return ir_code_cmd"
   ]
  },
  {
   "cell_type": "code",
   "execution_count": null,
   "metadata": {},
   "outputs": [],
   "source": [
    "class_ = python_tivo.const.IRCodeCommand\n",
    "for ir_code in dir(class_):\n",
    "    if ir_code.startswith(\"_\"):\n",
    "        continue\n",
    "    \n",
    "    attr = getattr(class_, ir_code)\n",
    "    if isinstance(attr, str):\n",
    "        print(ir_code.lower())"
   ]
  },
  {
   "cell_type": "code",
   "execution_count": 37,
   "metadata": {},
   "outputs": [
    {
     "data": {
      "text/plain": [
       "<function __main__.ir_code_wrapper.<locals>.ir_code_cmd(self)>"
      ]
     },
     "execution_count": 37,
     "metadata": {},
     "output_type": "execute_result"
    }
   ],
   "source": [
    "ir_code_wrapper(\"PAUSE\")"
   ]
  },
  {
   "cell_type": "code",
   "execution_count": 38,
   "metadata": {},
   "outputs": [],
   "source": [
    "setattr(python_tivo.Tivo, \"pause2\", ir_code_wrapper(\"PAUSE\"))"
   ]
  },
  {
   "cell_type": "code",
   "execution_count": 39,
   "metadata": {},
   "outputs": [
    {
     "data": {
      "text/plain": [
       "<bound method ir_code_wrapper.<locals>.ir_code_cmd of <python_tivo.Tivo.Tivo object at 0x7f721783ec18>>"
      ]
     },
     "execution_count": 39,
     "metadata": {},
     "output_type": "execute_result"
    }
   ],
   "source": [
    "tivo.pause2"
   ]
  },
  {
   "cell_type": "code",
   "execution_count": 41,
   "metadata": {
    "scrolled": true
   },
   "outputs": [
    {
     "data": {
      "text/plain": [
       "[{'raw': 'CH_STATUS 0232 LOCAL',\n",
       "  'type': 'CH_STATUS',\n",
       "  'channel': '0232',\n",
       "  'reason': 'LOCAL',\n",
       "  'subChannel': None}]"
      ]
     },
     "execution_count": 41,
     "metadata": {},
     "output_type": "execute_result"
    }
   ],
   "source": [
    "tivo.pause2()"
   ]
  },
  {
   "cell_type": "code",
   "execution_count": null,
   "metadata": {},
   "outputs": [],
   "source": [
    "def setch(channel=231):\n",
    "    if not isinstance(channel, str):\n",
    "        channel = str(channel)\n",
    "    cmds=list()\n",
    "    for num in channel:\n",
    "        cmds+=[f\"IRCODE NUM{num}\"]\n",
    "    cmds+=[\"IRCODE ENTER\"]\n",
    "    c.sendCommands(cmds)"
   ]
  },
  {
   "cell_type": "code",
   "execution_count": null,
   "metadata": {},
   "outputs": [],
   "source": [
    "setch(231)"
   ]
  },
  {
   "cell_type": "code",
   "execution_count": null,
   "metadata": {},
   "outputs": [],
   "source": [
    "setch(240)"
   ]
  },
  {
   "cell_type": "code",
   "execution_count": null,
   "metadata": {},
   "outputs": [],
   "source": [
    "setch(235)"
   ]
  },
  {
   "cell_type": "code",
   "execution_count": null,
   "metadata": {},
   "outputs": [],
   "source": [
    "setch(233)"
   ]
  }
 ],
 "metadata": {
  "kernelspec": {
   "display_name": "Python 3",
   "language": "python",
   "name": "python3"
  },
  "language_info": {
   "codemirror_mode": {
    "name": "ipython",
    "version": 3
   },
   "file_extension": ".py",
   "mimetype": "text/x-python",
   "name": "python",
   "nbconvert_exporter": "python",
   "pygments_lexer": "ipython3",
   "version": "3.7.3"
  }
 },
 "nbformat": 4,
 "nbformat_minor": 2
}
