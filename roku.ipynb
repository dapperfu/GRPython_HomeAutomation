{
 "cells": [
  {
   "cell_type": "markdown",
   "metadata": {},
   "source": [
    "# Roku Python"
   ]
  },
  {
   "cell_type": "code",
   "execution_count": 1,
   "metadata": {},
   "outputs": [],
   "source": [
    "import roku"
   ]
  },
  {
   "cell_type": "code",
   "execution_count": 10,
   "metadata": {},
   "outputs": [],
   "source": [
    "roku.Roku?"
   ]
  },
  {
   "cell_type": "code",
   "execution_count": 32,
   "metadata": {},
   "outputs": [],
   "source": [
    "cfg = {\n",
    "    \"host\": \"192.168.1.128\",\n",
    "    \"port\": 8060,\n",
    "    \"timeout\": 10, # E   \n",
    "}\n",
    "r = roku.Roku(**cfg)"
   ]
  },
  {
   "cell_type": "code",
   "execution_count": 33,
   "metadata": {},
   "outputs": [],
   "source": [
    "pbs_kids = next(a for a in r.apps if a.name=='PBS KIDS')"
   ]
  },
  {
   "cell_type": "code",
   "execution_count": 42,
   "metadata": {},
   "outputs": [],
   "source": [
    "pbs_kids.launch()"
   ]
  },
  {
   "cell_type": "code",
   "execution_count": 39,
   "metadata": {},
   "outputs": [],
   "source": [
    "r.home()"
   ]
  },
  {
   "cell_type": "code",
   "execution_count": 54,
   "metadata": {},
   "outputs": [],
   "source": [
    "r.play()"
   ]
  },
  {
   "cell_type": "code",
   "execution_count": 49,
   "metadata": {},
   "outputs": [],
   "source": [
    "r.back()"
   ]
  },
  {
   "cell_type": "code",
   "execution_count": 50,
   "metadata": {},
   "outputs": [],
   "source": [
    "r.right()"
   ]
  },
  {
   "cell_type": "code",
   "execution_count": 52,
   "metadata": {},
   "outputs": [],
   "source": [
    "r.select()"
   ]
  },
  {
   "cell_type": "code",
   "execution_count": 53,
   "metadata": {},
   "outputs": [],
   "source": [
    "r.select()"
   ]
  },
  {
   "cell_type": "code",
   "execution_count": 56,
   "metadata": {},
   "outputs": [],
   "source": [
    "r.pause=r.play"
   ]
  },
  {
   "cell_type": "code",
   "execution_count": 61,
   "metadata": {},
   "outputs": [],
   "source": [
    "r.pause()"
   ]
  },
  {
   "cell_type": "code",
   "execution_count": 60,
   "metadata": {},
   "outputs": [],
   "source": [
    "r.back()"
   ]
  },
  {
   "cell_type": "code",
   "execution_count": 68,
   "metadata": {},
   "outputs": [],
   "source": [
    "for _ in range(10):\n",
    "    r.left()\n",
    "    r.down()"
   ]
  },
  {
   "cell_type": "code",
   "execution_count": 69,
   "metadata": {},
   "outputs": [],
   "source": [
    "import time"
   ]
  },
  {
   "cell_type": "code",
   "execution_count": 79,
   "metadata": {},
   "outputs": [],
   "source": [
    "class PBSKids(roku.Roku):\n",
    "    def __init__(self, **kwargs):\n",
    "        self.roku = roku.Roku(**kwargs)\n",
    "        self.pbs_kids = next(a for a in self.roku.apps if a.name=='PBS KIDS')\n",
    "        self.pbs_kids.launch()\n",
    "        time.sleep(5)\n",
    "        self.zero()\n",
    "    \n",
    "        \n",
    "    def zero(self):\n",
    "        for _ in range(10):\n",
    "            self.roku.left()\n",
    "            self.roku.down()"
   ]
  },
  {
   "cell_type": "code",
   "execution_count": null,
   "metadata": {},
   "outputs": [],
   "source": []
  },
  {
   "cell_type": "code",
   "execution_count": 80,
   "metadata": {},
   "outputs": [],
   "source": [
    "p = PBSKids(**cfg)"
   ]
  },
  {
   "cell_type": "code",
   "execution_count": 83,
   "metadata": {},
   "outputs": [],
   "source": [
    "p.roku.back()\n",
    "p.zero()"
   ]
  },
  {
   "cell_type": "code",
   "execution_count": 84,
   "metadata": {},
   "outputs": [],
   "source": [
    "class PBSKids(roku.Roku):\n",
    "    def __init__(self, **kwargs):\n",
    "        self.roku = roku.Roku(**kwargs)\n",
    "        self.pbs_kids = next(a for a in self.roku.apps if a.name=='PBS KIDS')\n",
    "        self.pbs_kids.launch()\n",
    "        time.sleep(5)\n",
    "        self.zero()\n",
    "    \n",
    "        \n",
    "    def zero(self):\n",
    "        for _ in range(10):\n",
    "            self.roku.left()\n",
    "            self.roku.down()\n",
    "            \n",
    "    def home(self):\n",
    "        p.roku.back()\n",
    "        self.zero()"
   ]
  },
  {
   "cell_type": "code",
   "execution_count": 90,
   "metadata": {},
   "outputs": [],
   "source": [
    "p = PBSKids(**cfg)"
   ]
  },
  {
   "cell_type": "code",
   "execution_count": 91,
   "metadata": {},
   "outputs": [],
   "source": [
    "self = p"
   ]
  },
  {
   "cell_type": "code",
   "execution_count": 87,
   "metadata": {},
   "outputs": [],
   "source": [
    "channel_map = {\n",
    "    \"live\": [0, 1],\n",
    "    \"odd_squad\": [0,0],\n",
    "    \"daniel_tiger\": [1, 1],\n",
    "    \"wild_kratts\": [1, 0],\n",
    "}"
   ]
  },
  {
   "cell_type": "code",
   "execution_count": 98,
   "metadata": {},
   "outputs": [],
   "source": [
    "self.home()"
   ]
  },
  {
   "cell_type": "code",
   "execution_count": 100,
   "metadata": {},
   "outputs": [],
   "source": [
    "self.roku.back()"
   ]
  },
  {
   "cell_type": "code",
   "execution_count": 101,
   "metadata": {},
   "outputs": [],
   "source": [
    "self.zero()"
   ]
  },
  {
   "cell_type": "code",
   "execution_count": 103,
   "metadata": {},
   "outputs": [],
   "source": [
    "self.zero()\n",
    "show = \"wild_kratts\"\n",
    "\n",
    "for _ in range(channel_map[show][0]):\n",
    "    self.roku.right()\n",
    "for _ in range(channel_map[show][1]):\n",
    "    self.roku.up()\n",
    "    "
   ]
  },
  {
   "cell_type": "code",
   "execution_count": 106,
   "metadata": {},
   "outputs": [],
   "source": [
    "self.roku.back()"
   ]
  },
  {
   "cell_type": "code",
   "execution_count": 108,
   "metadata": {},
   "outputs": [],
   "source": [
    "self.zero()\n",
    "show = \"daniel_tiger\"\n",
    "\n",
    "for _ in range(channel_map[show][0]):\n",
    "    self.roku.right()\n",
    "for _ in range(channel_map[show][1]):\n",
    "    self.roku.up()\n",
    "    \n",
    "time.sleep(0.1)"
   ]
  },
  {
   "cell_type": "code",
   "execution_count": 97,
   "metadata": {},
   "outputs": [],
   "source": [
    "self.roku.select()\n",
    "time.sleep(1)\n",
    "self.roku.select()"
   ]
  },
  {
   "cell_type": "code",
   "execution_count": 89,
   "metadata": {},
   "outputs": [],
   "source": [
    "p.roku.back()"
   ]
  },
  {
   "cell_type": "code",
   "execution_count": 109,
   "metadata": {},
   "outputs": [],
   "source": [
    "\n",
    "class PBSKids(roku.Roku):\n",
    "    def __init__(self, **kwargs):\n",
    "        self.roku = roku.Roku(**kwargs)\n",
    "        self.pbs_kids = next(a for a in self.roku.apps if a.name=='PBS KIDS')\n",
    "        self.pbs_kids.launch()\n",
    "        time.sleep(5)\n",
    "        self.zero()\n",
    "    \n",
    "        \n",
    "    def zero(self):\n",
    "        for _ in range(10):\n",
    "            self.roku.left()\n",
    "            self.roku.down()\n",
    "            \n",
    "    def home(self):\n",
    "        p.roku.back()\n",
    "        self.zero()\n",
    "    \n",
    "    def sleep(self, sleep_time=0.1):\n",
    "        time.sleep(sleep_time)\n",
    "        \n",
    "        \n",
    "    # Practical Pressing\n",
    "    def back(self):\n",
    "        cmd = getattr(self.roku, \"back\")\n",
    "        cmd()\n",
    "        self.sleep()\n",
    "        \n",
    "        \n",
    "    def left(self):\n",
    "        self.roku.back()\n",
    "        self.sleep()\n",
    "    def left(self):\n",
    "        self.roku.back()\n",
    "        self.sleep()\n",
    "    def left(self):\n",
    "        self.roku.back()\n",
    "        self.sleep()\n",
    "    def left(self):\n",
    "        self.roku.back()\n",
    "        self.sleep()\n",
    "        "
   ]
  },
  {
   "cell_type": "code",
   "execution_count": 110,
   "metadata": {},
   "outputs": [],
   "source": [
    "p = PBSKids(**cfg)"
   ]
  },
  {
   "cell_type": "code",
   "execution_count": 111,
   "metadata": {},
   "outputs": [],
   "source": [
    "p.back()"
   ]
  },
  {
   "cell_type": "code",
   "execution_count": 112,
   "metadata": {},
   "outputs": [],
   "source": [
    "def command_factory(roku_button):\n",
    "    def roku_command(self):\n",
    "        cmd = getattr(self.roku, roku_button)\n",
    "        cmd()\n",
    "        self.sleep()\n",
    "    return roku_command"
   ]
  },
  {
   "cell_type": "code",
   "execution_count": null,
   "metadata": {},
   "outputs": [],
   "source": [
    "for button in [\"back\", \"up\", \"down\", \"left\", \"right\", \"select\""
   ]
  },
  {
   "cell_type": "code",
   "execution_count": 114,
   "metadata": {},
   "outputs": [
    {
     "data": {
      "text/plain": [
       "['back',\n",
       " 'backspace',\n",
       " 'channel_down',\n",
       " 'channel_up',\n",
       " 'down',\n",
       " 'enter',\n",
       " 'find_remote',\n",
       " 'forward',\n",
       " 'home',\n",
       " 'info',\n",
       " 'input_av1',\n",
       " 'input_hdmi1',\n",
       " 'input_hdmi2',\n",
       " 'input_hdmi3',\n",
       " 'input_hdmi4',\n",
       " 'input_tuner',\n",
       " 'left',\n",
       " 'literal',\n",
       " 'play',\n",
       " 'power',\n",
       " 'poweroff',\n",
       " 'replay',\n",
       " 'reverse',\n",
       " 'right',\n",
       " 'search',\n",
       " 'select',\n",
       " 'up',\n",
       " 'volume_down',\n",
       " 'volume_mute',\n",
       " 'volume_up']"
      ]
     },
     "execution_count": 114,
     "metadata": {},
     "output_type": "execute_result"
    }
   ],
   "source": [
    "self.roku.commands"
   ]
  },
  {
   "cell_type": "code",
   "execution_count": 115,
   "metadata": {},
   "outputs": [],
   "source": [
    "self.roku.find_remote()"
   ]
  },
  {
   "cell_type": "code",
   "execution_count": 119,
   "metadata": {},
   "outputs": [],
   "source": [
    "self.roku.input_tuner()"
   ]
  },
  {
   "cell_type": "code",
   "execution_count": 120,
   "metadata": {},
   "outputs": [],
   "source": [
    "self.roku.select()"
   ]
  },
  {
   "cell_type": "code",
   "execution_count": null,
   "metadata": {},
   "outputs": [],
   "source": []
  }
 ],
 "metadata": {
  "kernelspec": {
   "display_name": "Python 3",
   "language": "python",
   "name": "python3"
  },
  "language_info": {
   "codemirror_mode": {
    "name": "ipython",
    "version": 3
   },
   "file_extension": ".py",
   "mimetype": "text/x-python",
   "name": "python",
   "nbconvert_exporter": "python",
   "pygments_lexer": "ipython3",
   "version": "3.7.3"
  }
 },
 "nbformat": 4,
 "nbformat_minor": 2
}
